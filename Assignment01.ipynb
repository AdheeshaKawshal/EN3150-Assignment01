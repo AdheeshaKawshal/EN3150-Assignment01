{
 "cells": [
  {
   "cell_type": "code",
   "execution_count": 2,
   "id": "be7f150f",
   "metadata": {},
   "outputs": [],
   "source": [
    "import cv2 as cv\n",
    "import numpy as np\n",
    "import matplotlib.pyplot as plt\n"
   ]
  },
  {
   "cell_type": "code",
   "execution_count": 5,
   "id": "98efe585",
   "metadata": {},
   "outputs": [
    {
     "name": "stdout",
     "output_type": "stream",
     "text": [
      "255\n"
     ]
    }
   ],
   "source": [
    "r = np.array([(50,100,150,255),(0,50,150,255)])\n",
    "t1=np.linspace(0,r[0,0],r[1,1]).astype('uint8')\n",
    "t2=np.linspace(r[0,1],r[0,3],r[1,2]-r[1,1]).astype('uint8')\n",
    "t3=np.linspace(r[0,2],r[0,3],r[1,3]-r[1,2]).astype('uint8')\n",
    "transform =np.concatenate((t1,t2,t3),axis=0).astype('uint8')\n",
    "img=cv.imread(\"a1images/emma.jpg\")\n",
    "print(len(transform))\n",
    "\n",
    "cv.imshow('hh',img)\n",
    "\n"
   ]
  }
 ],
 "metadata": {
  "kernelspec": {
   "display_name": "Python 3",
   "language": "python",
   "name": "python3"
  },
  "language_info": {
   "codemirror_mode": {
    "name": "ipython",
    "version": 3
   },
   "file_extension": ".py",
   "mimetype": "text/x-python",
   "name": "python",
   "nbconvert_exporter": "python",
   "pygments_lexer": "ipython3",
   "version": "3.12.10"
  }
 },
 "nbformat": 4,
 "nbformat_minor": 5
}
